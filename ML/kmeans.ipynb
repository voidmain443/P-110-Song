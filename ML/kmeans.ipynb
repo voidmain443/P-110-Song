{
 "cells": [
  {
   "cell_type": "code",
   "execution_count": null,
   "id": "initial_id",
   "metadata": {
    "collapsed": true
   },
   "outputs": [],
   "source": [
    "\"\"\"\n",
    "1. 임의의 그룹 수를 정하고.\n",
    "2. 그룹 수에 해당하는 centroid를 랜덤 공간에 배치.\n",
    "3. 모든 포인트와 각 centroid와 거리를 계산하고(브로드캐스팅 사용)\n",
    "    - 각각의 이미지와의 거리 계산 결과를 담는 np.array필요.\n",
    "4. 가까운 센트로이드로 라벨링 진행. -> 만약 2개로 한다면, 1, 2로 라벨을 쓴다고 하자. 1 centroid에 더 가까운 객체는 1라벨이 붙도록.\n",
    "4. centroid를 현재 잡은 군집의 중심으로 이동(위치 업데이트) -> 1 라벨로 설정된 이미지들의 각 픽셀의 평균을 계산하여, 이미지 위치를 설정.\n",
    "5. 위의 작업을 반복하다가, 중심이동이 없으면 종료.\n",
    "\n",
    "거리의 경우, 모든 픽셀을 기준으로 설정, 0~255값 중. 랜덤으로 진행. np.randn(1, 100, 100)\n",
    "\"\"\""
   ]
  },
  {
   "cell_type": "code",
   "outputs": [],
   "source": [
    "# 데이터 가져오기\n",
    "!wget https://bit.ly/fruits_300_data -O fruits_300.npy"
   ],
   "metadata": {
    "collapsed": false
   },
   "id": "a59946e394e25d9d"
  },
  {
   "cell_type": "code",
   "outputs": [],
   "source": [
    "import numpy as np\n",
    "import matplotlib.pyplot as plt\n",
    "\n",
    "fruits = np.load('fruits_300.npy')  # 100*100 사이즈의 2d 어레이가 300개 있는 형태\n",
    "fruits_2d = fruits.reshape(-1, 100*100)  # 300개의 벡터로 변환"
   ],
   "metadata": {
    "collapsed": false
   },
   "id": "e0757dea7e61843"
  },
  {
   "cell_type": "code",
   "outputs": [],
   "source": [
    "import time\n",
    "# 그룹 수 3개, centroid image 3개 생성\n",
    "centroid_image1 = np.random.rand(1, 100, 100)*255\n",
    "centroid_image1 = centroid_image1.astype(int)\n",
    "\n",
    "centroid_image2 = np.random.rand(1, 100, 100)*255\n",
    "centroid_image2 = centroid_image2.astype(int)\n",
    "\n",
    "centroid_image3 = np.random.rand(1, 100, 100)*255\n",
    "centroid_image3 = centroid_image3.astype(int)\n",
    "\n",
    "# centroid도 벡터 형태로 변환\n",
    "centroid_vec_1 = centroid_image1.reshape(-1, 100*100)\n",
    "centroid_vec_2 = centroid_image2.reshape(-1, 100*100)\n",
    "centroid_vec_3 = centroid_image3.reshape(-1, 100*100)"
   ],
   "metadata": {
    "collapsed": false
   },
   "id": "e4c198afc3cd241f"
  },
  {
   "cell_type": "code",
   "outputs": [],
   "source": [
    "# MSE"
   ],
   "metadata": {
    "collapsed": false
   },
   "id": "eb51b4bfdab1fd08"
  },
  {
   "cell_type": "code",
   "outputs": [],
   "source": [
    "# 전체 이미지와 centroid1 사이의 거리 결과 배열\n",
    "pow1 = np.power(fruits_2d, 2) + np.power(centroid_vec_1, 2)  # 10000개 요소가 있는 배열이 300개 있음.\n",
    "print(fruits_2d.shape, centroid_vec_1.shape, pow1.shape)\n",
    "# print(pow[:][1].sum())\n",
    "# 뒷 부1분을 연산해서 합치는 과정을 통해서 (300, 10000) -> (300, 1) 형태로 변환해줘야 함.\n",
    "sums1 = np.sum(pow1, axis=1)\n",
    "dist_list1 = sums1/10000\n",
    "# dist_list1 = np.sqrt(sums1)  # 1번 센트로이드와 300개의 이미지간의 거리를 계산한 결과\n",
    "print(dist_list1, dist_list1.shape)"
   ],
   "metadata": {
    "collapsed": false
   },
   "id": "d9cb5dc58661279e"
  },
  {
   "cell_type": "code",
   "outputs": [],
   "source": [
    "# 전체 이미지와 centroid2 사이의 거리 결과 배열\n",
    "pow2 = np.power(fruits_2d, 2) + np.power(centroid_vec_2, 2)  # 10000개 요소가 있는 배열이 300개 있음.\n",
    "# dist_list2 = np.sqrt(sums2)  # 1번/ 센트로이드와 300개의 이미지간의 거리를 계산한 결과\n",
    "sums2 = np.sum(pow2, axis=1)\n",
    "dist_list2 = sums2/10000\n",
    "print(dist_list2, dist_list2.shape)"
   ],
   "metadata": {
    "collapsed": false
   },
   "id": "a3d2442fac2054c"
  },
  {
   "cell_type": "code",
   "outputs": [],
   "source": [
    "# 전체 이미지와 centroid3 사이의 거리 결과 배열\n",
    "pow3 = np.power(fruits_2d, 2) + np.power(centroid_vec_3, 2)  # 10000개 요소가 있는 배열이 300개 있음.\n",
    "# dist_list3 = np.sqrt(sums3)  # 1번 센트로이드와 300개의 이미지간의 거리를 계산한 결과\n",
    "sums3 = np.sum(pow3, axis=1)\n",
    "dist_list3 = sums3/10000\n",
    "print(dist_list3, dist_list3.shape)"
   ],
   "metadata": {
    "collapsed": false
   },
   "id": "9f3d2f07c1061c24"
  },
  {
   "cell_type": "code",
   "outputs": [],
   "source": [
    "# 계산한 거리 배열을 비교해서 라벨 지정할 배열을 만들 것. -> 3개의 배열에 동일한 위치를 비교해서, 가장 작은 값에 해당 센트로이드의 라벨을 붙여서 저장해야 함.\n",
    "# 현재는 인덱스를 그대로 1, 2, 3을 쓰기에 각 배열의 각 순서에 있는 요소를 병합하고 -> [1, 2, 3], [4, 5, 6], [7, 8, 9] => [1, 4, 7], [2, 5, 8], [3, 6, 9]\n",
    "# 각 배열의 가장 작은 인덱스를 출력. -> [1, 4, 7], [2, 5, 8], [3, 6, 9] -> 가장 작은 값의 인덱스 출력 -> [0, 0, 0]"
   ],
   "metadata": {
    "collapsed": false
   },
   "id": "626fff86130e80e6"
  },
  {
   "cell_type": "code",
   "outputs": [],
   "source": [
    "total_dist_list = []\n",
    "\n",
    "for i in range(300):\n",
    "  temp_list = [dist_list1[i], dist_list2[i], dist_list3[i]]\n",
    "  total_dist_list.append(temp_list)\n",
    "\n",
    "print(total_dist_list)"
   ],
   "metadata": {
    "collapsed": false
   },
   "id": "ce1a35c48bcd5542"
  },
  {
   "cell_type": "markdown",
   "source": [
    "# 전부 같은 인덱스가 출력되는 문제가 있음."
   ],
   "metadata": {
    "collapsed": false
   },
   "id": "778d529165f171eb"
  },
  {
   "cell_type": "code",
   "outputs": [],
   "source": [
    "total_dist_np_arr = np.array(total_dist_list)\n",
    "total_dist_index_arr = map(np.argmin , total_dist_np_arr)\n",
    "print(list(total_dist_index_arr))"
   ],
   "metadata": {
    "collapsed": false
   },
   "id": "ee8881ed6ab2c675"
  }
 ],
 "metadata": {
  "kernelspec": {
   "display_name": "Python 3",
   "language": "python",
   "name": "python3"
  },
  "language_info": {
   "codemirror_mode": {
    "name": "ipython",
    "version": 2
   },
   "file_extension": ".py",
   "mimetype": "text/x-python",
   "name": "python",
   "nbconvert_exporter": "python",
   "pygments_lexer": "ipython2",
   "version": "2.7.6"
  }
 },
 "nbformat": 4,
 "nbformat_minor": 5
}
